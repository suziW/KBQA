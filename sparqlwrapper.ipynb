{
 "cells": [
  {
   "cell_type": "code",
   "execution_count": 2,
   "metadata": {},
   "outputs": [],
   "source": [
    "from SPARQLWrapper import SPARQLWrapper, JSON, XML"
   ]
  },
  {
   "cell_type": "code",
   "execution_count": 29,
   "metadata": {},
   "outputs": [
    {
     "name": "stdout",
     "output_type": "stream",
     "text": [
      "http://dbpedia.org/resource/Dr._Strangelove ### Dr. Strangelove\n",
      "http://dbpedia.org/resource/Dr._Strangelove ### Dr. Strangelove or: How I Learned to Stop Worrying and Love the Bomb\n",
      "http://dbpedia.org/resource/Dr._Strangelove ### Doktor Strangelove, czyli jak przestałem się martwić i pokochałem bombę\n",
      "http://dbpedia.org/resource/Inside_Daisy_Clover ### Daisy Clover\n",
      "http://dbpedia.org/resource/The_Beloved_Bachelor ### The Beloved Bachelor\n",
      "http://dbpedia.org/resource/10_Cloverfield_Lane ### 10 Cloverfield Lane\n",
      "http://dbpedia.org/resource/The_Professor's_Beloved_Equation_(film) ### The Professor's Beloved Equation (film)\n",
      "http://dbpedia.org/resource/Golden_Gloves_(1940_film) ### Golden Gloves (1940 film)\n",
      "http://dbpedia.org/resource/The_Beloved_(1970_film) ### The Beloved (1970 film)\n",
      "http://dbpedia.org/resource/The_Beloved_(1991_film) ### The Beloved (1991 film)\n"
     ]
    }
   ],
   "source": [
    "sparql = SPARQLWrapper(\"http://dbpedia.org/sparql\")\n",
    "\n",
    "sparql.setQuery(\"\"\"\n",
    "select distinct(?film) ?f_name where {\n",
    "?film rdf:type dbo:Film;\n",
    "      rdfs:label ?f_name.\n",
    "filter regex(?f_name,\"love\") \n",
    "}\n",
    "group by ?film\n",
    "limit 10\n",
    "\"\"\")\n",
    "sparql.setReturnFormat(JSON)\n",
    "results = sparql.query().convert()\n",
    "\n",
    "for result in results[\"results\"][\"bindings\"]:\n",
    "    print(result[\"film\"][\"value\"],'#'*3,result['f_name']['value'])"
   ]
  },
  {
   "cell_type": "code",
   "execution_count": 17,
   "metadata": {},
   "outputs": [
    {
     "data": {
      "text/plain": [
       "{'head': {'link': [], 'vars': ['film', 'f_name']},\n",
       " 'results': {'bindings': [], 'distinct': False, 'ordered': True}}"
      ]
     },
     "execution_count": 17,
     "metadata": {},
     "output_type": "execute_result"
    }
   ],
   "source": [
    "results"
   ]
  },
  {
   "cell_type": "code",
   "execution_count": 88,
   "metadata": {},
   "outputs": [],
   "source": [
    "y1 = 1\n",
    "y2 = 2\n",
    "y3 = 3"
   ]
  },
  {
   "cell_type": "code",
   "execution_count": 89,
   "metadata": {},
   "outputs": [],
   "source": [
    "def selecty(string):\n",
    "    return 'a{}'.format(string)"
   ]
  },
  {
   "cell_type": "code",
   "execution_count": 90,
   "metadata": {},
   "outputs": [
    {
     "data": {
      "text/plain": [
       "'a3'"
      ]
     },
     "execution_count": 90,
     "metadata": {},
     "output_type": "execute_result"
    }
   ],
   "source": [
    "selecty(y3)"
   ]
  },
  {
   "cell_type": "code",
   "execution_count": 91,
   "metadata": {},
   "outputs": [],
   "source": [
    "import argparse"
   ]
  },
  {
   "cell_type": "code",
   "execution_count": 38,
   "metadata": {},
   "outputs": [
    {
     "data": {
      "text/plain": [
       "('select distinct(?film) ?f_name\\n            where {\\n                ?film rdf:type dbo:Film;\\n                      rdfs:label ?f_name.\\n                filter regex(?f_name,%s)\\n            }\\n            group by ?film\\n            limit 10\\n',\n",
       " 'jsdaklfj')"
      ]
     },
     "execution_count": 38,
     "metadata": {},
     "output_type": "execute_result"
    }
   ],
   "source": [
    "(\"\"\"select distinct(?film) ?f_name\n",
    "            where {\n",
    "                ?film rdf:type dbo:Film;\n",
    "                      rdfs:label ?f_name.\n",
    "                filter regex(?f_name,%s)\n",
    "            }\n",
    "            group by ?film\n",
    "            limit 10\n",
    "\"\"\",\"jsdaklfj\")"
   ]
  },
  {
   "cell_type": "code",
   "execution_count": 32,
   "metadata": {},
   "outputs": [
    {
     "data": {
      "text/plain": [
       "'filter regex(?f_name, love)'"
      ]
     },
     "execution_count": 32,
     "metadata": {},
     "output_type": "execute_result"
    }
   ],
   "source": [
    "'filter regex(?f_name, {})'.format(\"love\")"
   ]
  },
  {
   "cell_type": "code",
   "execution_count": 39,
   "metadata": {},
   "outputs": [],
   "source": [
    "import jieba"
   ]
  },
  {
   "cell_type": "code",
   "execution_count": 50,
   "metadata": {},
   "outputs": [
    {
     "name": "stdout",
     "output_type": "stream",
     "text": [
      "Full Mode: 我/ 来到/ 北京/ 清华/ 清华大学/ 华大/ 大学\n"
     ]
    }
   ],
   "source": [
    "seg_list = jieba.cut(\"我来到北京清华大学\", cut_all=True)\n",
    "print(\"Full Mode: \" + \"/ \".join(seg_list))  # 全模式\n"
   ]
  },
  {
   "cell_type": "code",
   "execution_count": 51,
   "metadata": {},
   "outputs": [
    {
     "name": "stdout",
     "output_type": "stream",
     "text": [
      "Full Mode: \n"
     ]
    }
   ],
   "source": [
    "print(\"Full Mode: \" + \"/\".join(seg_list))"
   ]
  },
  {
   "cell_type": "code",
   "execution_count": 1,
   "metadata": {},
   "outputs": [],
   "source": [
    "queries_dict = dict()\n",
    "queries_dict[2] = 'sdjafl'"
   ]
  },
  {
   "cell_type": "code",
   "execution_count": 11,
   "metadata": {},
   "outputs": [
    {
     "name": "stdout",
     "output_type": "stream",
     "text": [
      "sdjafl\n"
     ]
    }
   ],
   "source": [
    "print(list(queries_dict.values())[0])"
   ]
  },
  {
   "cell_type": "code",
   "execution_count": 13,
   "metadata": {},
   "outputs": [
    {
     "data": {
      "text/plain": [
       "'select distinct ?publication ?p_name\\n            where {\\n                ?publication rdf:type dbo:loce;\\n                      rdfs:label ?p_name.\\n                filter regex(?p_name,\"loce\") \\n            }\\n            group by ?publication\\n            limit 10\\n'"
      ]
     },
     "execution_count": 13,
     "metadata": {},
     "output_type": "execute_result"
    }
   ],
   "source": [
    "input = 'loce'\n",
    "\"\"\"select distinct ?publication ?p_name\n",
    "            where {\n",
    "                ?publication rdf:type dbo:%s;\n",
    "                      rdfs:label ?p_name.\n",
    "                filter regex(?p_name,\"%s\") \n",
    "            }\n",
    "            group by ?publication\n",
    "            limit 10\n",
    "\"\"\"%(input,input)"
   ]
  },
  {
   "cell_type": "code",
   "execution_count": null,
   "metadata": {},
   "outputs": [],
   "source": []
  }
 ],
 "metadata": {
  "kernelspec": {
   "display_name": "Python 3",
   "language": "python",
   "name": "python3"
  },
  "language_info": {
   "codemirror_mode": {
    "name": "ipython",
    "version": 3
   },
   "file_extension": ".py",
   "mimetype": "text/x-python",
   "name": "python",
   "nbconvert_exporter": "python",
   "pygments_lexer": "ipython3",
   "version": "3.6.4"
  }
 },
 "nbformat": 4,
 "nbformat_minor": 2
}
